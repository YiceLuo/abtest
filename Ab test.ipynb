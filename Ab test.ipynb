{
 "cells": [
  {
   "cell_type": "code",
   "execution_count": 33,
   "metadata": {
    "collapsed": true,
    "deletable": true,
    "editable": true
   },
   "outputs": [],
   "source": [
    "import numpy as np\n",
    "import pandas as pd\n",
    "import pandasql as pdsql\n",
    "import datetime as dt\n",
    "import seaborn as sna\n",
    "from scipy import stats\n",
    "sna.set()\n",
    "import matplotlib.pyplot as plt\n",
    "%matplotlib inline\n",
    "pd.options.display.notebook_repr_html=False"
   ]
  },
  {
   "cell_type": "code",
   "execution_count": 34,
   "metadata": {
    "collapsed": false,
    "deletable": true,
    "editable": true
   },
   "outputs": [
    {
     "name": "stdout",
     "output_type": "stream",
     "text": [
      "Ab Homework solution.ipynb\r\n",
      "DSChallenge-TakeHome.pdf\r\n",
      "Session 4 AB test and experiment design.docx\r\n",
      "attempt1.ipynb\r\n",
      "takehome_assignments.csv\r\n",
      "takehome_contacts.csv\r\n",
      "yiceluo_hw.docx\r\n"
     ]
    }
   ],
   "source": [
    "!ls "
   ]
  },
  {
   "cell_type": "code",
   "execution_count": 35,
   "metadata": {
    "collapsed": true,
    "deletable": true,
    "editable": true
   },
   "outputs": [],
   "source": [
    "treatment_control_lookup=pd.read_csv('./takehome_assignments.csv')"
   ]
  },
  {
   "cell_type": "code",
   "execution_count": 36,
   "metadata": {
    "collapsed": true,
    "deletable": true,
    "editable": true
   },
   "outputs": [],
   "source": [
    "pd.read_csv?"
   ]
  },
  {
   "cell_type": "code",
   "execution_count": 37,
   "metadata": {
    "collapsed": true,
    "deletable": true,
    "editable": true
   },
   "outputs": [],
   "source": [
    "contracts=pd.read_csv('./takehome_contacts.csv',\\\n",
    "                      parse_dates=['ts_reply_at_first','ts_interaction_first','ts_accepted_at_first','ts_booking_at']) "
   ]
  },
  {
   "cell_type": "code",
   "execution_count": 38,
   "metadata": {
    "collapsed": false,
    "deletable": true,
    "editable": true
   },
   "outputs": [
    {
     "data": {
      "text/plain": [
       "id_user    10000\n",
       "ab         10000\n",
       "dtype: int64"
      ]
     },
     "execution_count": 38,
     "metadata": {},
     "output_type": "execute_result"
    }
   ],
   "source": [
    "#treatment_control_lookup.head(2)\n",
    "#print type(contracts.ts_interaction_first[1])\n",
    "treatment_control_lookup.count()"
   ]
  },
  {
   "cell_type": "code",
   "execution_count": 39,
   "metadata": {
    "collapsed": false,
    "deletable": true,
    "editable": true
   },
   "outputs": [
    {
     "data": {
      "text/plain": [
       "id_user    9487\n",
       "ab         9487\n",
       "dtype: int64"
      ]
     },
     "execution_count": 39,
     "metadata": {},
     "output_type": "execute_result"
    }
   ],
   "source": [
    "treatment_control_lookup=treatment_control_lookup.drop_duplicates()\n",
    "treatment_control_lookup.count()"
   ]
  },
  {
   "cell_type": "code",
   "execution_count": 40,
   "metadata": {
    "collapsed": false,
    "deletable": true,
    "editable": true
   },
   "outputs": [
    {
     "data": {
      "text/plain": [
       "1    8701\n",
       "2     393\n",
       "Name: ab_cnt, dtype: int64"
      ]
     },
     "execution_count": 40,
     "metadata": {},
     "output_type": "execute_result"
    }
   ],
   "source": [
    "treatment_control_lookup=pdsql.sqldf(\"select distinct id_user, ab, count(distinct ab) as  ab_cnt from treatment_control_lookup group by id_user\",locals())\n",
    "treatment_control_lookup.ab_cnt.value_counts()"
   ]
  },
  {
   "cell_type": "code",
   "execution_count": 41,
   "metadata": {
    "collapsed": false,
    "deletable": true,
    "editable": true
   },
   "outputs": [
    {
     "name": "stdout",
     "output_type": "stream",
     "text": [
      "9487\n"
     ]
    }
   ],
   "source": [
    "print (8701+393*2)"
   ]
  },
  {
   "cell_type": "code",
   "execution_count": 42,
   "metadata": {
    "collapsed": false,
    "deletable": true,
    "editable": true
   },
   "outputs": [
    {
     "data": {
      "text/plain": [
       "id_user    8701\n",
       "ab         8701\n",
       "dtype: int64"
      ]
     },
     "execution_count": 42,
     "metadata": {},
     "output_type": "execute_result"
    }
   ],
   "source": [
    "unique_group_id=treatment_control_lookup[treatment_control_lookup.ab_cnt==1][['id_user','ab']]\n",
    "unique_group_id.count()"
   ]
  },
  {
   "cell_type": "code",
   "execution_count": 43,
   "metadata": {
    "collapsed": false,
    "deletable": true,
    "editable": true
   },
   "outputs": [
    {
     "data": {
      "text/plain": [
       "id_guest                  10000\n",
       "id_host                   10000\n",
       "id_listing                10000\n",
       "ts_interaction_first      10000\n",
       "ts_reply_at_first         10000\n",
       "ts_accepted_at_first      10000\n",
       "ts_booking_at             10000\n",
       "dim_contact_channel       10000\n",
       "m_first_message_length     9883\n",
       "dtype: int64"
      ]
     },
     "execution_count": 43,
     "metadata": {},
     "output_type": "execute_result"
    }
   ],
   "source": [
    "contracts.count()"
   ]
  },
  {
   "cell_type": "code",
   "execution_count": 44,
   "metadata": {
    "collapsed": false,
    "deletable": true,
    "editable": true
   },
   "outputs": [
    {
     "data": {
      "text/plain": [
       "<matplotlib.axes._subplots.AxesSubplot at 0x117f78690>"
      ]
     },
     "execution_count": 44,
     "metadata": {},
     "output_type": "execute_result"
    },
    {
     "data": {
      "image/png": "[encoded data removed]",
      "text/plain": [
       "<matplotlib.figure.Figure at 0x1173ce990>"
      ]
     },
     "metadata": {},
     "output_type": "display_data"
    }
   ],
   "source": [
    "contracts.m_first_message_length.hist()"
   ]
  },
  {
   "cell_type": "code",
   "execution_count": 45,
   "metadata": {
    "collapsed": false,
    "deletable": true,
    "editable": true
   },
   "outputs": [
    {
     "data": {
      "text/plain": [
       "                               id_guest                               id_host  \\\n",
       "0  f966752c-8533-48b2-af6f-8c6797d2b247  4405ab66-1c68-449b-abd9-1ad1892a6c4d   \n",
       "1  873f93fb-234c-4cfb-83c7-27ff0e582a8e  aa41b57b-e29f-4c95-bf27-48f27519e419   \n",
       "\n",
       "                             id_listing ts_interaction_first  \\\n",
       "0  fe07e0c4-c317-44bc-a82d-5b599a248049  2013-01-01 23:04:00   \n",
       "1  d47717da-315a-42c2-8888-9b7d4bea8829  2013-01-02 00:21:00   \n",
       "\n",
       "  ts_reply_at_first ts_accepted_at_first ts_booking_at dim_contact_channel  \\\n",
       "0           15:23.0                  nan           nan          contact_me   \n",
       "1           38:31.0                  nan           nan          contact_me   \n",
       "\n",
       "   m_first_message_length  \n",
       "0                   230.0  \n",
       "1                    98.0  "
      ]
     },
     "execution_count": 45,
     "metadata": {},
     "output_type": "execute_result"
    }
   ],
   "source": [
    "contracts.head(2)"
   ]
  },
  {
   "cell_type": "code",
   "execution_count": 46,
   "metadata": {
    "collapsed": false,
    "deletable": true,
    "editable": true
   },
   "outputs": [
    {
     "data": {
      "text/plain": [
       "                                id_user         ab\n",
       "0  0000d66b-1872-4605-9244-24d5936e221c    control\n",
       "2  000df180-89b7-45c4-a738-15f6962a101d    control\n",
       "3  0018de9a-7ef1-4c02-ab10-c85b8d44bcdf  treatment\n",
       "4  001b411e-56cd-4b6d-a6de-92360d6d367e  treatment\n",
       "5  001ef343-7d2e-4279-8ca5-4fb28d1cb1f5  treatment"
      ]
     },
     "execution_count": 46,
     "metadata": {},
     "output_type": "execute_result"
    }
   ],
   "source": [
    "unique_group_id.head()"
   ]
  },
  {
   "cell_type": "code",
   "execution_count": 47,
   "metadata": {
    "collapsed": true,
    "deletable": true,
    "editable": true
   },
   "outputs": [],
   "source": [
    "contracts= (pd.merge(left=contracts,\n",
    "                 right=unique_group_id,\n",
    "                 left_on=['id_guest'],\n",
    "                 right_on=['id_user'],\n",
    "                 how='left'\n",
    "                )\n",
    "         )\n",
    "contracts.count()\n",
    "contracts['Experiment group']=contracts.ab\n",
    "#contracts.drop_duplicates().count() no duplicates"
   ]
  },
  {
   "cell_type": "code",
   "execution_count": 48,
   "metadata": {
    "collapsed": false,
    "deletable": true,
    "editable": true
   },
   "outputs": [
    {
     "data": {
      "text/plain": [
       "treatment    4554\n",
       "control      4550\n",
       "NaN           896\n",
       "Name: ab, dtype: int64"
      ]
     },
     "execution_count": 48,
     "metadata": {},
     "output_type": "execute_result"
    }
   ],
   "source": [
    "contracts.ab.value_counts(dropna=False)"
   ]
  },
  {
   "cell_type": "code",
   "execution_count": 49,
   "metadata": {
    "collapsed": false,
    "deletable": true,
    "editable": true
   },
   "outputs": [
    {
     "data": {
      "text/plain": [
       "count    10000.000000\n",
       "mean       320.662500\n",
       "std        234.797876\n",
       "min          0.000000\n",
       "25%        163.000000\n",
       "50%        270.000000\n",
       "75%        417.000000\n",
       "max       3182.000000\n",
       "Name: m_first_message_length, dtype: float64"
      ]
     },
     "execution_count": 49,
     "metadata": {},
     "output_type": "execute_result"
    }
   ],
   "source": [
    "contracts['m_first_message_length']=contracts.m_first_message_length.fillna(value=0)\n",
    "contracts.m_first_message_length.describe()"
   ]
  },
  {
   "cell_type": "code",
   "execution_count": 50,
   "metadata": {
    "collapsed": false,
    "deletable": true,
    "editable": true
   },
   "outputs": [
    {
     "name": "stdout",
     "output_type": "stream",
     "text": [
      "Experiment group\n",
      "dim_contact_channel\n",
      "Experiment group  dim_contact_channel\n",
      "control           contact_me             3648\n",
      "                  book_it                 880\n",
      "                  instant_booked           22\n",
      "treatment         contact_me             3642\n",
      "                  book_it                 890\n",
      "                  instant_booked           22\n",
      "Name: dim_contact_channel, dtype: int64\n"
     ]
    },
    {
     "data": {
      "text/plain": [
       "<matplotlib.legend.Legend at 0x117920dd0>"
      ]
     },
     "execution_count": 50,
     "metadata": {},
     "output_type": "execute_result"
    },
    {
     "data": {
      "image/png": "[encoded data removed]",
      "text/plain": [
       "<matplotlib.figure.Figure at 0x118413a10>"
      ]
     },
     "metadata": {},
     "output_type": "display_data"
    }
   ],
   "source": [
    "#plot percentage of \n",
    "grp_col='Experiment group'\n",
    "col='dim_contact_channel'\n",
    "print grp_col\n",
    "print col\n",
    "grouped_contracts=contracts.groupby([grp_col])\n",
    "print grouped_contracts[col].value_counts()\n",
    "grouped_contracts[col].value_counts(2).unstack().plot(kind=\"bar\",rot='horizontal',\\\n",
    "                                    title='Percentage of ' + col + ' by' + grp_col )\n",
    "plt.legend(bbox_to_anchor=(1.05, 1), loc=2, borderaxespad=0)"
   ]
  },
  {
   "cell_type": "code",
   "execution_count": 51,
   "metadata": {
    "collapsed": false,
    "deletable": true,
    "editable": true
   },
   "outputs": [
    {
     "name": "stdout",
     "output_type": "stream",
     "text": [
      "Experiment group  dim_contact_channel\n",
      "control           contact_me             3648\n",
      "                  book_it                 880\n",
      "                  instant_booked           22\n",
      "treatment         contact_me             3642\n",
      "                  book_it                 890\n",
      "                  instant_booked           22\n",
      "Name: dim_contact_channel, dtype: int64\n"
     ]
    },
    {
     "data": {
      "text/plain": [
       "<matplotlib.legend.Legend at 0x1184a4950>"
      ]
     },
     "execution_count": 51,
     "metadata": {},
     "output_type": "execute_result"
    },
    {
     "data": {
      "image/png": "[encoded data removed]",
      "text/plain": [
       "<matplotlib.figure.Figure at 0x11c05ce90>"
      ]
     },
     "metadata": {},
     "output_type": "display_data"
    }
   ],
   "source": [
    "grp_col=['Experiment group']\n",
    "grouped_contracts=contracts.groupby(grp_col)\n",
    "print grouped_contracts.dim_contact_channel.value_counts()\n",
    "grouped_contracts.dim_contact_channel.value_counts(2).unstack().plot(kind=\"bar\",rot='horizontal',\\\n",
    "                                    title='Percentage of contact channels by experiment group')\n",
    "plt.legend(bbox_to_anchor=(1.05, 1), loc=2, borderaxespad=0)\n",
    "#about same amount of people choose those three contact channel among treatment and control group"
   ]
  },
  {
   "cell_type": "markdown",
   "metadata": {
    "deletable": true,
    "editable": true
   },
   "source": [
    "# Define some binary outcomes and check the proportion of them between treatment Vs control group"
   ]
  },
  {
   "cell_type": "code",
   "execution_count": 57,
   "metadata": {
    "collapsed": false,
    "deletable": true,
    "editable": true
   },
   "outputs": [
    {
     "data": {
      "text/plain": [
       "Experiment group  replied\n",
       "control           True       4550\n",
       "treatment         True       4554\n",
       "Name: replied, dtype: int64"
      ]
     },
     "execution_count": 57,
     "metadata": {},
     "output_type": "execute_result"
    }
   ],
   "source": [
    "grouped_contracts['replied'].value_counts()"
   ]
  },
  {
   "cell_type": "code",
   "execution_count": 56,
   "metadata": {
    "collapsed": true,
    "deletable": true,
    "editable": true
   },
   "outputs": [],
   "source": [
    "contracts['replied']=contracts.ts_reply_at_first.notnull()"
   ]
  },
  {
   "cell_type": "code",
   "execution_count": null,
   "metadata": {
    "collapsed": true,
    "deletable": true,
    "editable": true
   },
   "outputs": [],
   "source": [
    "contracts['replied']"
   ]
  },
  {
   "cell_type": "code",
   "execution_count": 58,
   "metadata": {
    "collapsed": false,
    "deletable": true,
    "editable": true
   },
   "outputs": [
    {
     "name": "stdout",
     "output_type": "stream",
     "text": [
      "Chi-square test of contingency table: replied Vs treatment group\n",
      "\n",
      "\n",
      "replied           True\n",
      "Experiment group      \n",
      "control            1.0\n",
      "treatment          1.0\n",
      "\n",
      "\n",
      "replied           True\n",
      "Experiment group      \n",
      "control           4550\n",
      "treatment         4554\n",
      "\n",
      "\n",
      "(0.0, 1.0, 0, array([[ 4550.],\n",
      "       [ 4554.]]))\n",
      "\n",
      "\n",
      "\n",
      "\n",
      "Chi-square test of contingency table: accepted Vs treatment group\n",
      "\n",
      "\n",
      "accepted          True\n",
      "Experiment group      \n",
      "control            1.0\n",
      "treatment          1.0\n",
      "\n",
      "\n",
      "accepted          True\n",
      "Experiment group      \n",
      "control           4550\n",
      "treatment         4554\n",
      "\n",
      "\n",
      "(0.0, 1.0, 0, array([[ 4550.],\n",
      "       [ 4554.]]))\n",
      "\n",
      "\n",
      "\n",
      "\n",
      "Chi-square test of contingency table: booked Vs treatment group\n",
      "\n",
      "\n",
      "booked            True\n",
      "Experiment group      \n",
      "control            1.0\n",
      "treatment          1.0\n",
      "\n",
      "\n",
      "booked            True\n",
      "Experiment group      \n",
      "control           4550\n",
      "treatment         4554\n",
      "\n",
      "\n",
      "(0.0, 1.0, 0, array([[ 4550.],\n",
      "       [ 4554.]]))\n",
      "\n",
      "\n",
      "\n",
      "\n",
      "Chi-square test of contingency table: messaged Vs treatment group\n",
      "\n",
      "\n",
      "messaged          messaged  no message\n",
      "Experiment group                      \n",
      "control           0.921099    0.078901\n",
      "treatment         1.000000    0.000000\n",
      "\n",
      "\n",
      "messaged          messaged  no message\n",
      "Experiment group                      \n",
      "control             4191.0       359.0\n",
      "treatment           4554.0         0.0\n",
      "\n",
      "\n",
      "(371.98611986706351, 6.914445135550913e-83, 1, array([[ 4370.57886643,   179.42113357],\n",
      "       [ 4374.42113357,   179.57886643]]))\n",
      "\n",
      "\n",
      "\n",
      "\n",
      "Chi-square test of contingency table: message_group Vs treatment group\n",
      "\n",
      "\n",
      "message_group     long message  short message\n",
      "Experiment group                             \n",
      "control               0.784396       0.215604\n",
      "treatment             0.852657       0.147343\n",
      "\n",
      "\n",
      "message_group     long message  short message\n",
      "Experiment group                             \n",
      "control                   3569            981\n",
      "treatment                 3883            671\n",
      "\n",
      "\n",
      "(70.942143756406239, 3.6785561048131401e-17, 1, array([[ 3724.3629174,   825.6370826],\n",
      "       [ 3727.6370826,   826.3629174]]))\n",
      "\n",
      "\n",
      "\n",
      "\n",
      "Chi-square test of contingency table: dim_contact_channel Vs treatment group\n",
      "\n",
      "\n",
      "dim_contact_channel   book_it  contact_me  instant_booked\n",
      "Experiment group                                         \n",
      "control              0.193407    0.801758        0.004835\n",
      "treatment            0.195433    0.799736        0.004831\n",
      "\n",
      "\n",
      "dim_contact_channel  book_it  contact_me  instant_booked\n",
      "Experiment group                                        \n",
      "control                  880        3648              22\n",
      "treatment                890        3642              22\n",
      "\n",
      "\n",
      "(0.059677989022347548, 0.97060179318500839, 2, array([[  884.61115993,  3643.39850615,    21.99033392],\n",
      "       [  885.38884007,  3646.60149385,    22.00966608]]))\n",
      "\n",
      "\n",
      "\n",
      "\n"
     ]
    }
   ],
   "source": [
    "contracts['replied']=contracts.ts_reply_at_first.notnull()\n",
    "contracts['accepted']=contracts.ts_accepted_at_first.notnull()\n",
    "contracts['booked']=contracts.ts_booking_at.notnull()\n",
    "contracts['messaged']=contracts.m_first_message_length.apply(lambda x: \"messaged\" if x>0.0 else \"no message\")\n",
    "contracts['message_group']=contracts.m_first_message_length.apply(lambda x: \"long message\" if x>=140.0 else \"short message\")\n",
    "binary_outcome=['replied','accepted','booked','messaged','message_group','dim_contact_channel']\n",
    "for i in binary_outcome:\n",
    "    print \"Chi-square test of contingency table: \" + i + \" Vs treatment group\"\n",
    "    print \"\\n\"\n",
    "    print grouped_contracts[i].value_counts(2).unstack().fillna(0)\n",
    "    print \"\\n\"\n",
    "    print grouped_contracts[i].value_counts().unstack().fillna(0)\n",
    "    print \"\\n\"\n",
    "    print stats.chi2_contingency(grouped_contracts[i].value_counts().unstack().fillna(0))\n",
    "    print \"\\n\"\n",
    "    print \"\\n\""
   ]
  },
  {
   "cell_type": "code",
   "execution_count": 16,
   "metadata": {
    "collapsed": false,
    "deletable": true,
    "editable": true
   },
   "outputs": [
    {
     "data": {
      "text/plain": [
       "<matplotlib.legend.Legend at 0x11005b910>"
      ]
     },
     "execution_count": 16,
     "metadata": {},
     "output_type": "execute_result"
    },
    {
     "data": {
      "image/png": "[encoded data removed]",
      "text/plain": [
       "<matplotlib.figure.Figure at 0x1100879d0>"
      ]
     },
     "metadata": {},
     "output_type": "display_data"
    }
   ],
   "source": [
    "grouped_contracts['messaged'].value_counts(2).unstack().fillna(0).plot(kind=\"bar\",color=['lightcoral','yellow'],rot='horizontal',\\\n",
    "                                    title='Messaged rate by experiment group')\n",
    "plt.legend(bbox_to_anchor=(1.05, 1), loc=2, borderaxespad=0)"
   ]
  },
  {
   "cell_type": "code",
   "execution_count": 17,
   "metadata": {
    "collapsed": false,
    "deletable": true,
    "editable": true
   },
   "outputs": [
    {
     "data": {
      "text/plain": [
       "<matplotlib.legend.Legend at 0x1100650d0>"
      ]
     },
     "execution_count": 17,
     "metadata": {},
     "output_type": "execute_result"
    },
    {
     "data": {
      "image/png": "[encoded data removed]",
      "text/plain": [
       "<matplotlib.figure.Figure at 0x1100e4410>"
      ]
     },
     "metadata": {},
     "output_type": "display_data"
    }
   ],
   "source": [
    "grouped_contracts['message_group'].value_counts(2).unstack().fillna(0).plot(kind=\"bar\",color=['lightcoral','yellow'],rot='horizontal',\\\n",
    "                                    title='% of long message by experiment group')\n",
    "plt.legend(bbox_to_anchor=(1.05, 1), loc=2, borderaxespad=0)\n"
   ]
  },
  {
   "cell_type": "markdown",
   "metadata": {
    "deletable": true,
    "editable": true
   },
   "source": [
    "# Conclusion: "
   ]
  },
  {
   "cell_type": "markdown",
   "metadata": {
    "deletable": true,
    "editable": true
   },
   "source": [
    "1) The treatment let user more likely to submit a message to host \n",
    "2) The treatment let user more likely to write long message to host\n",
    "3) Reply rate, acceptance rate, booking rate and contact channel does not have significant difference between the two experiment groups."
   ]
  },
  {
   "cell_type": "markdown",
   "metadata": {
    "deletable": true,
    "editable": true
   },
   "source": [
    "## Define continuous outcomes"
   ]
  },
  {
   "cell_type": "code",
   "execution_count": 18,
   "metadata": {
    "collapsed": false,
    "deletable": true,
    "editable": true
   },
   "outputs": [
    {
     "data": {
      "text/plain": [
       "array([<matplotlib.axes._subplots.AxesSubplot object at 0x10f2ff650>,\n",
       "       <matplotlib.axes._subplots.AxesSubplot object at 0x11036fe90>], dtype=object)"
      ]
     },
     "execution_count": 18,
     "metadata": {},
     "output_type": "execute_result"
    },
    {
     "data": {
      "image/png": "[encoded data removed]",
      "text/plain": [
       "<matplotlib.figure.Figure at 0x110013c50>"
      ]
     },
     "metadata": {},
     "output_type": "display_data"
    }
   ],
   "source": [
    "contracts.m_first_message_length.hist(bins=100, by=contracts.ab)"
   ]
  },
  {
   "cell_type": "code",
   "execution_count": 19,
   "metadata": {
    "collapsed": true,
    "deletable": true,
    "editable": true
   },
   "outputs": [],
   "source": [
    "#contracts['reply_time']=(contracts.ts_reply_at_first-contracts.ts_interaction_first)\n",
    "contracts['reply_time_h']=(contracts.ts_reply_at_first-contracts.ts_interaction_first)/np.timedelta64(1, 'h')\n",
    "contracts['accept_time_h']=(contracts.ts_accepted_at_first-contracts.ts_interaction_first)/np.timedelta64(1, 'h')\n",
    "contracts['booking_time_h']=(contracts.ts_booking_at-contracts.ts_interaction_first)/np.timedelta64(1, 'h')"
   ]
  },
  {
   "cell_type": "code",
   "execution_count": 20,
   "metadata": {
    "collapsed": false,
    "deletable": true,
    "editable": true
   },
   "outputs": [
    {
     "data": {
      "text/plain": [
       "       reply_time_h  accept_time_h  booking_time_h  m_first_message_length\n",
       "count   8571.000000    3363.000000     2171.000000            10000.000000\n",
       "mean      48.183884      27.970940       43.954933              320.662500\n",
       "std      414.163084     308.251372      385.898037              234.797876\n",
       "min       -0.027778      -0.027778       -0.027778                0.000000\n",
       "25%        0.545972       0.406111        0.761250              163.000000\n",
       "50%        3.873889       2.920833        6.024167              270.000000\n",
       "75%       16.551389      14.262639       23.905833              417.000000\n",
       "max    14026.655556   16102.172500    16102.172500             3182.000000"
      ]
     },
     "execution_count": 20,
     "metadata": {},
     "output_type": "execute_result"
    }
   ],
   "source": [
    "contracts[['reply_time_h','accept_time_h','booking_time_h','m_first_message_length']].describe()"
   ]
  },
  {
   "cell_type": "code",
   "execution_count": 21,
   "metadata": {
    "collapsed": false,
    "deletable": true,
    "editable": true
   },
   "outputs": [
    {
     "name": "stderr",
     "output_type": "stream",
     "text": [
      "/Library/Frameworks/Python.framework/Versions/2.7/lib/python2.7/site-packages/pandas/core/frame.py:1825: UserWarning: Boolean Series key will be reindexed to match DataFrame index.\n",
      "  \"DataFrame index.\", UserWarning)\n"
     ]
    },
    {
     "data": {
      "text/plain": [
       "<matplotlib.axes._subplots.AxesSubplot at 0x110d14150>"
      ]
     },
     "execution_count": 21,
     "metadata": {},
     "output_type": "execute_result"
    },
    {
     "data": {
      "image/png": "[encoded data removed]",
      "text/plain": [
       "<matplotlib.figure.Figure at 0x11006cc10>"
      ]
     },
     "metadata": {},
     "output_type": "display_data"
    }
   ],
   "source": [
    "contracts[['reply_time_h','accept_time_h','booking_time_h']][contracts.reply_time_h<=168][contracts.accept_time_h<=168][contracts.booking_time_h<=168].plot(kind='hist',\\\n",
    "                                                                   bins=100,alpha=0.4,title='Reply Time Vs Accept Time Vs booking Time(unit:h)')"
   ]
  },
  {
   "cell_type": "code",
   "execution_count": 22,
   "metadata": {
    "collapsed": false,
    "deletable": true,
    "editable": true
   },
   "outputs": [
    {
     "name": "stdout",
     "output_type": "stream",
     "text": [
      "155\n",
      "110\n",
      "88\n"
     ]
    }
   ],
   "source": [
    "print contracts.reply_time_h[contracts.reply_time_h<0].count() \n",
    "print contracts.accept_time_h[contracts.accept_time_h<0].count() \n",
    "print contracts.booking_time_h[contracts.booking_time_h<0].count() \n",
    "# there are small number of small negative values for those 3 times, since the value is not too bad, \n",
    "#I will just change them to 0, assuming it's casued by the small difference of time on user's computer."
   ]
  },
  {
   "cell_type": "code",
   "execution_count": 23,
   "metadata": {
    "collapsed": true,
    "deletable": true,
    "editable": true
   },
   "outputs": [],
   "source": [
    "#change those negative delta time (h) to 0 \n",
    "contracts.reply_time_h=contracts.reply_time_h.apply(lambda x: 0 if x<0 else x)\n",
    "contracts.accept_time_h=contracts.accept_time_h.apply(lambda x: 0 if x<0 else x)\n",
    "contracts.booking_time_h=contracts.booking_time_h.apply(lambda x: 0 if x<0 else x)"
   ]
  },
  {
   "cell_type": "code",
   "execution_count": 24,
   "metadata": {
    "collapsed": false,
    "deletable": true,
    "editable": true
   },
   "outputs": [
    {
     "name": "stdout",
     "output_type": "stream",
     "text": [
      "293\n",
      "66\n",
      "86\n"
     ]
    }
   ],
   "source": [
    "#Chenck the frequency of  extreamly large value for those 3 time variables, since the freq is small, I decide to drop\n",
    "#those records when I look at the distribution of time\n",
    "print contracts.reply_time_h[contracts.reply_time_h>168].count() #168 hour is one week\n",
    "print contracts.accept_time_h[contracts.accept_time_h>168].count() \n",
    "print contracts.booking_time_h[contracts.booking_time_h>168].count()"
   ]
  },
  {
   "cell_type": "markdown",
   "metadata": {
    "deletable": true,
    "editable": true
   },
   "source": [
    "## Do t-test for continous vairables"
   ]
  },
  {
   "cell_type": "code",
   "execution_count": 25,
   "metadata": {
    "collapsed": false,
    "deletable": true,
    "editable": true
   },
   "outputs": [
    {
     "data": {
      "text/plain": [
       "                        accept_time_h   accepted     booked  booking_time_h  \\\n",
       "Experiment group                                                              \n",
       "control          count    1595.000000       4550       4550     1039.000000   \n",
       "                 mean       36.623934  0.3505495  0.2283516       53.197732   \n",
       "                 std       436.569502  0.4771945  0.4198165      536.715799   \n",
       "                 min         0.000000      False      False        0.000000   \n",
       "                 25%         0.365000          0          0        0.690833   \n",
       "                 50%         2.775833          0          0        5.423611   \n",
       "                 75%        14.629861          1          0       23.075000   \n",
       "                 max     16102.172500       True       True    16102.172500   \n",
       "treatment        count    1561.000000       4554       4554     1038.000000   \n",
       "                 mean       18.117475  0.3427756  0.2279315       31.603864   \n",
       "                 std        70.148085  0.4746893  0.4195442      125.313656   \n",
       "                 min         0.000000      False      False        0.000000   \n",
       "                 25%         0.416667          0          0        0.835972   \n",
       "                 50%         3.006389          0          0        6.054861   \n",
       "                 75%        13.720000          1          0       23.653819   \n",
       "                 max      1664.983056       True       True     3245.210000   \n",
       "\n",
       "                        m_first_message_length    replied  reply_time_h  \n",
       "Experiment group                                                         \n",
       "control          count             4550.000000       4550   3906.000000  \n",
       "                 mean               314.868571  0.8584615     46.609999  \n",
       "                 std                242.724993  0.3486145    417.906707  \n",
       "                 min                  0.000000      False      0.000000  \n",
       "                 25%                158.000000          1      0.540069  \n",
       "                 50%                270.000000          1      3.802083  \n",
       "                 75%                417.000000          1     16.135764  \n",
       "                 max               2654.000000       True  13411.246944  \n",
       "treatment        count             4554.000000       4554   3935.000000  \n",
       "                 mean               322.651296  0.8640755     48.419031  \n",
       "                 std                224.327484   0.342746    427.011498  \n",
       "                 min                 51.000000      False      0.000000  \n",
       "                 25%                163.000000          1      0.529028  \n",
       "                 50%                268.000000          1      3.826667  \n",
       "                 75%                414.000000          1     16.453889  \n",
       "                 max               3182.000000       True  14026.655556  "
      ]
     },
     "execution_count": 25,
     "metadata": {},
     "output_type": "execute_result"
    }
   ],
   "source": [
    "grouped_contracts.describe()"
   ]
  },
  {
   "cell_type": "code",
   "execution_count": 26,
   "metadata": {
    "collapsed": false,
    "deletable": true,
    "editable": true
   },
   "outputs": [
    {
     "name": "stdout",
     "output_type": "stream",
     "text": [
      "t-test for m_first_message_length between treatment and control group: t = 1.58869  p = 0.112166\n"
     ]
    }
   ],
   "source": [
    "from scipy.stats import ttest_ind\n",
    "t, p = ttest_ind(contracts.m_first_message_length[contracts.ab==\"treatment\"], \\\n",
    "contracts.m_first_message_length[contracts.ab==\"control\"], equal_var=False)\n",
    "print \"t-test for m_first_message_length between treatment and control group: t = %g  p = %g\" % (t, p)"
   ]
  },
  {
   "cell_type": "markdown",
   "metadata": {
    "deletable": true,
    "editable": true
   },
   "source": [
    "### no significant difference of average message length in the two groups at 95% confidence level."
   ]
  },
  {
   "cell_type": "code",
   "execution_count": 27,
   "metadata": {
    "collapsed": true,
    "deletable": true,
    "editable": true
   },
   "outputs": [],
   "source": [
    "#import statsmodels.api as sm\n",
    "#from statsmodels.formula.api import ols\n",
    "#lm=ols(' m_first_message_length ~ C(ab)', data=contracts).fit() \n",
    "#lm.pvalues"
   ]
  },
  {
   "cell_type": "code",
   "execution_count": 28,
   "metadata": {
    "collapsed": false,
    "deletable": true,
    "editable": true
   },
   "outputs": [
    {
     "name": "stdout",
     "output_type": "stream",
     "text": [
      "if we only use records that reply/accept/booking time within 1 hours\n",
      "t-test for reply_time_h between treatment and control group: t = 0.808903  p = 0.418648\n",
      "if we only use records that reply/accept/booking time within 2 hours\n",
      "t-test for reply_time_h between treatment and control group: t = -0.71885  p = 0.472286\n",
      "if we only use records that reply/accept/booking time within 3 hours\n",
      "t-test for reply_time_h between treatment and control group: t = 0.107015  p = 0.914783\n",
      "if we only use records that reply/accept/booking time within 6 hours\n",
      "t-test for reply_time_h between treatment and control group: t = 0.151135  p = 0.879876\n",
      "if we only use records that reply/accept/booking time within 12 hours\n",
      "t-test for reply_time_h between treatment and control group: t = -0.0149512  p = 0.988072\n",
      "if we only use records that reply/accept/booking time within 24 hours\n",
      "t-test for reply_time_h between treatment and control group: t = 0.125274  p = 0.900311\n",
      "if we only use records that reply/accept/booking time within 48 hours\n",
      "t-test for reply_time_h between treatment and control group: t = 0.173167  p = 0.862525\n",
      "if we only use records that reply/accept/booking time within 168 hours\n",
      "t-test for reply_time_h between treatment and control group: t = -0.562867  p = 0.573542\n",
      "if we only use records that reply/accept/booking time within 1 hours\n",
      "t-test for accept_time_h between treatment and control group: t = 0.729794  p = 0.46567\n",
      "if we only use records that reply/accept/booking time within 2 hours\n",
      "t-test for accept_time_h between treatment and control group: t = -0.382198  p = 0.702373\n",
      "if we only use records that reply/accept/booking time within 3 hours\n",
      "t-test for accept_time_h between treatment and control group: t = 0.34068  p = 0.73339\n",
      "if we only use records that reply/accept/booking time within 6 hours\n",
      "t-test for accept_time_h between treatment and control group: t = 1.46402  p = 0.14335\n",
      "if we only use records that reply/accept/booking time within 12 hours\n",
      "t-test for accept_time_h between treatment and control group: t = 0.967237  p = 0.333528\n",
      "if we only use records that reply/accept/booking time within 24 hours\n",
      "t-test for accept_time_h between treatment and control group: t = 0.992998  p = 0.320801\n",
      "if we only use records that reply/accept/booking time within 48 hours\n",
      "t-test for accept_time_h between treatment and control group: t = 0.399414  p = 0.689617\n",
      "if we only use records that reply/accept/booking time within 168 hours\n",
      "t-test for accept_time_h between treatment and control group: t = -1.29385  p = 0.195815\n",
      "if we only use records that reply/accept/booking time within 1 hours\n",
      "t-test for booking_time_h between treatment and control group: t = -0.139501  p = 0.889103\n",
      "if we only use records that reply/accept/booking time within 2 hours\n",
      "t-test for booking_time_h between treatment and control group: t = 0.208248  p = 0.835093\n",
      "if we only use records that reply/accept/booking time within 3 hours\n",
      "t-test for booking_time_h between treatment and control group: t = 0.800899  p = 0.423417\n",
      "if we only use records that reply/accept/booking time within 6 hours\n",
      "t-test for booking_time_h between treatment and control group: t = 1.10442  p = 0.269667\n",
      "if we only use records that reply/accept/booking time within 12 hours\n",
      "t-test for booking_time_h between treatment and control group: t = 1.03085  p = 0.30281\n",
      "if we only use records that reply/accept/booking time within 24 hours\n",
      "t-test for booking_time_h between treatment and control group: t = 0.710115  p = 0.477738\n",
      "if we only use records that reply/accept/booking time within 48 hours\n",
      "t-test for booking_time_h between treatment and control group: t = 0.292659  p = 0.769817\n",
      "if we only use records that reply/accept/booking time within 168 hours\n",
      "t-test for booking_time_h between treatment and control group: t = 0.600745  p = 0.548078\n"
     ]
    }
   ],
   "source": [
    "time_var_list=['reply_time_h','accept_time_h','booking_time_h']\n",
    "for i in time_var_list:\n",
    "    for hours in [1,2,3,6,12,24,48,168]:\n",
    "        print \"if we only use records that reply/accept/booking time within \" + str(hours) +\" hours\"\n",
    "        t, p = ttest_ind(contracts[i][contracts[i]<=hours][contracts.ab==\"treatment\"], \\\n",
    "        contracts[i][contracts[i]<=hours][contracts.ab==\"control\"], equal_var=False)\n",
    "        print \"t-test for \" + i + \" between treatment and control group: t = %g  p = %g\" % (t, p)"
   ]
  },
  {
   "cell_type": "markdown",
   "metadata": {
    "deletable": true,
    "editable": true
   },
   "source": [
    "### Therefore, there is no significant difference of continous outcomes between the two experiment groups."
   ]
  },
  {
   "cell_type": "code",
   "execution_count": 29,
   "metadata": {
    "collapsed": false,
    "deletable": true,
    "editable": true
   },
   "outputs": [
    {
     "name": "stdout",
     "output_type": "stream",
     "text": [
      "long message     7452\n",
      "short message    1652\n",
      "dtype: int64\n",
      "long message     765\n",
      "short message    131\n",
      "dtype: int64\n"
     ]
    }
   ],
   "source": [
    "print contracts[contracts.ab.notnull()].message_group.value_counts()\n",
    "print contracts[contracts.ab.isnull()].message_group.value_counts()\n",
    "#although there are some records with missing value for treatment and control, those records can still be used in testing\n",
    "#the impact of long message(>140) Vs not."
   ]
  },
  {
   "cell_type": "markdown",
   "metadata": {
    "collapsed": true,
    "deletable": true,
    "editable": true
   },
   "source": [
    "### Although in the homework description it says: We \"required\" the guest to write a message that's at least 140 characters long. But I still see lots of m_first_message_length value less than 140 in the treatment group. So I think the experiment is conducted in a way that only \"ask\" but not \"force\" user to submit a message that's more than 140 characters long. Even the first message is less than 140 characters, the user still can submit the inqury.Therefore, it might worth to check the acceptance rate, response rate, booking rate for those people who send long message (if we define long message as more than 140 characters)no matter which group those users belong to. I only use those contact_me records since most of the users do not send long message when they use book it or instant book."
   ]
  },
  {
   "cell_type": "code",
   "execution_count": 30,
   "metadata": {
    "collapsed": false,
    "deletable": true,
    "editable": true
   },
   "outputs": [
    {
     "data": {
      "text/plain": [
       "array([[<matplotlib.axes._subplots.AxesSubplot object at 0x1111c6ad0>,\n",
       "        <matplotlib.axes._subplots.AxesSubplot object at 0x111c118d0>],\n",
       "       [<matplotlib.axes._subplots.AxesSubplot object at 0x111c4f590>,\n",
       "        <matplotlib.axes._subplots.AxesSubplot object at 0x1120fb350>]], dtype=object)"
      ]
     },
     "execution_count": 30,
     "metadata": {},
     "output_type": "execute_result"
    },
    {
     "data": {
      "image/png": "[encoded data removed]",
      "text/plain": [
       "<matplotlib.figure.Figure at 0x111180510>"
      ]
     },
     "metadata": {},
     "output_type": "display_data"
    }
   ],
   "source": [
    "contracts.m_first_message_length.hist(bins=100, by=contracts.dim_contact_channel,figsize=(8,8))\n",
    "#so basically this test only impact those people who book through \"contact me\" or \"book_it\""
   ]
  },
  {
   "cell_type": "code",
   "execution_count": 31,
   "metadata": {
    "collapsed": false,
    "deletable": true,
    "editable": true
   },
   "outputs": [
    {
     "name": "stdout",
     "output_type": "stream",
     "text": [
      "Chi-square test of contingency table: replied Vs message group\n",
      "                  True      False\n",
      "message_group                    \n",
      "long message   0.844721  0.155279\n",
      "short message  0.841601  0.158399\n",
      "(0.051246698799421286, 0.82090795273660155, 1, array([[ 5893.92177122,  1087.07822878],\n",
      "       [  970.07822878,   178.92177122]]))\n",
      "\n",
      "\n",
      "Chi-square test of contingency table: accepted Vs message group\n",
      "                  False     True \n",
      "message_group                    \n",
      "long message   0.717662  0.282338\n",
      "short message  0.727589  0.272411\n",
      "(0.43340444594508853, 0.51032314938832068, 1, array([[ 5019.79409594,  1961.20590406],\n",
      "       [  826.20590406,   322.79409594]]))\n",
      "\n",
      "\n",
      "Chi-square test of contingency table: booked Vs message group\n",
      "                  False     True \n",
      "message_group                    \n",
      "long message   0.862914  0.137086\n",
      "short message  0.873803  0.126197\n",
      "(0.90772072896585176, 0.34071990052045253, 1, array([[ 6034.74391144,   946.25608856],\n",
      "       [  993.25608856,   155.74391144]]))\n",
      "\n",
      "\n"
     ]
    }
   ],
   "source": [
    "grouped_by_long_message=contracts[contracts.dim_contact_channel=='contact_me'].groupby(['message_group'])\n",
    "binary_outcome=['replied','accepted','booked']\n",
    "for i in binary_outcome:\n",
    "    print \"Chi-square test of contingency table: \" + i + \" Vs message group\"\n",
    "    print grouped_by_long_message[i].value_counts(2).unstack().fillna(0)\n",
    "    print stats.chi2_contingency(grouped_by_long_message[i].value_counts().unstack().fillna(0))\n",
    "    print \"\\n\""
   ]
  },
  {
   "cell_type": "markdown",
   "metadata": {
    "deletable": true,
    "editable": true
   },
   "source": [
    "### No significant difference in reply rate, acceptance rate, booking rate between different message group."
   ]
  },
  {
   "cell_type": "code",
   "execution_count": 32,
   "metadata": {
    "collapsed": false,
    "deletable": true,
    "editable": true
   },
   "outputs": [
    {
     "data": {
      "text/plain": [
       "<matplotlib.legend.Legend at 0x1123d2750>"
      ]
     },
     "execution_count": 32,
     "metadata": {},
     "output_type": "execute_result"
    },
    {
     "data": {
      "image/png": "[encoded data removed]",
      "text/plain": [
       "<matplotlib.figure.Figure at 0x10f44ff90>"
      ]
     },
     "metadata": {},
     "output_type": "display_data"
    }
   ],
   "source": [
    "grouped_by_long_message['booked'].value_counts(2).unstack().fillna(0).plot(kind=\"bar\",color=['g','yellow'],rot='horizontal',\\\n",
    "                                    title='Booking rate by Message group')\n",
    "plt.legend(bbox_to_anchor=(1.05, 1), loc=2, borderaxespad=0)"
   ]
  },
  {
   "cell_type": "code",
   "execution_count": 33,
   "metadata": {
    "collapsed": false,
    "deletable": true,
    "editable": true
   },
   "outputs": [
    {
     "data": {
      "text/plain": [
       "<matplotlib.legend.Legend at 0x1126b6190>"
      ]
     },
     "execution_count": 33,
     "metadata": {},
     "output_type": "execute_result"
    },
    {
     "data": {
      "image/png": "[encoded data removed]",
      "text/plain": [
       "<matplotlib.figure.Figure at 0x1125a5cd0>"
      ]
     },
     "metadata": {},
     "output_type": "display_data"
    }
   ],
   "source": [
    "grouped_by_long_message['accepted'].value_counts(2).unstack().fillna(0).plot(kind=\"bar\",color=['g','yellow'],rot='horizontal',\\\n",
    "                                    title='Acceptance rate by Message group')\n",
    "plt.legend(bbox_to_anchor=(1.05, 1), loc=2, borderaxespad=0)"
   ]
  },
  {
   "cell_type": "code",
   "execution_count": 34,
   "metadata": {
    "collapsed": false,
    "deletable": true,
    "editable": true
   },
   "outputs": [
    {
     "data": {
      "text/plain": [
       "                     accept_time_h   accepted     booked  booking_time_h  \\\n",
       "message_group                                                              \n",
       "long message  count    1971.000000       6981       6981      957.000000   \n",
       "              mean       40.068610  0.2823378  0.1370864       83.098130   \n",
       "              std       397.931601  0.4501691  0.3439632      572.174252   \n",
       "              min         0.000000      False      False        0.020833   \n",
       "              25%         0.614028          0          0        5.018889   \n",
       "              50%         4.205000          0          0       21.347500   \n",
       "              75%        19.013056          1          0       53.455833   \n",
       "              max     16102.172500       True       True    16102.172500   \n",
       "short message count     313.000000       1149       1149      145.000000   \n",
       "              mean       13.901254  0.2724108  0.1261967       30.657291   \n",
       "              std        27.926292   0.445394  0.3322155       61.075757   \n",
       "              min         0.000000      False      False        0.066389   \n",
       "              25%         0.487778          0          0        2.419444   \n",
       "              50%         2.606389          0          0       13.718611   \n",
       "              75%        14.798889          1          0       32.544444   \n",
       "              max       281.364444       True       True      566.311667   \n",
       "\n",
       "                     m_first_message_length    replied  reply_time_h  \n",
       "message_group                                                         \n",
       "long message  count             6981.000000       6981   5897.000000  \n",
       "              mean               381.640309  0.8447214     50.982047  \n",
       "              std                229.915755   0.362196    383.433737  \n",
       "              min                140.000000      False      0.000000  \n",
       "              25%                226.000000          1      0.691944  \n",
       "              50%                319.000000          1      4.606389  \n",
       "              75%                464.000000          1     19.048056  \n",
       "              max               3182.000000       True  13411.246944  \n",
       "short message count             1149.000000       1149    967.000000  \n",
       "              mean                96.305483  0.8416014     47.374731  \n",
       "              std                 29.235166  0.3652733    343.198825  \n",
       "              min                  0.000000      False      0.000000  \n",
       "              25%                 76.000000          1      0.363333  \n",
       "              50%                 99.000000          1      2.803889  \n",
       "              75%                120.000000          1     16.587361  \n",
       "              max                139.000000       True   8109.244444  "
      ]
     },
     "execution_count": 34,
     "metadata": {},
     "output_type": "execute_result"
    }
   ],
   "source": [
    "grouped_by_long_message.describe()"
   ]
  },
  {
   "cell_type": "code",
   "execution_count": 35,
   "metadata": {
    "collapsed": false,
    "deletable": true,
    "editable": true
   },
   "outputs": [
    {
     "name": "stdout",
     "output_type": "stream",
     "text": [
      "if we only use records that reply_time_h within 1 hours\n",
      "message_group\n",
      "long message     0.316254\n",
      "short message    0.261351\n",
      "Name: reply_time_h, dtype: float64\n",
      "t-test for reply_time_h between treatment and control group: t = 3.41615  p = 0.000688791\n",
      "if we only use records that reply_time_h within 2 hours\n",
      "message_group\n",
      "long message     0.581593\n",
      "short message    0.542128\n",
      "Name: reply_time_h, dtype: float64\n",
      "t-test for reply_time_h between treatment and control group: t = 1.31729  p = 0.188235\n",
      "if we only use records that reply_time_h within 3 hours\n",
      "message_group\n",
      "long message     0.837469\n",
      "short message    0.776791\n",
      "Name: reply_time_h, dtype: float64\n",
      "t-test for reply_time_h between treatment and control group: t = 1.47576  p = 0.140456\n",
      "if we only use records that reply_time_h within 6 hours\n",
      "message_group\n",
      "long message     1.593341\n",
      "short message    1.275883\n",
      "Name: reply_time_h, dtype: float64\n",
      "t-test for reply_time_h between treatment and control group: t = 4.54614  p = 6.26136e-06\n",
      "if we only use records that reply_time_h within 12 hours\n",
      "message_group\n",
      "long message     2.899185\n",
      "short message    2.394629\n",
      "Name: reply_time_h, dtype: float64\n",
      "t-test for reply_time_h between treatment and control group: t = 3.89629  p = 0.000104595\n",
      "if we only use records that reply_time_h within 24 hours\n",
      "message_group\n",
      "long message     5.119489\n",
      "short message    4.578547\n",
      "Name: reply_time_h, dtype: float64\n",
      "t-test for reply_time_h between treatment and control group: t = 2.26827  p = 0.0235128\n",
      "if we only use records that reply_time_h within 48 hours\n",
      "message_group\n",
      "long message     7.889301\n",
      "short message    7.160035\n",
      "Name: reply_time_h, dtype: float64\n",
      "t-test for reply_time_h between treatment and control group: t = 1.90269  p = 0.057325\n",
      "if we only use records that reply_time_h within 168 hours\n",
      "message_group\n",
      "long message     14.741772\n",
      "short message    13.370058\n",
      "Name: reply_time_h, dtype: float64\n",
      "t-test for reply_time_h between treatment and control group: t = 1.48557  p = 0.137643\n",
      "if we only use records that accept_time_h within 1 hours\n",
      "message_group\n",
      "long message     0.308365\n",
      "short message    0.299453\n",
      "Name: accept_time_h, dtype: float64\n",
      "t-test for accept_time_h between treatment and control group: t = 0.296756  p = 0.767105\n",
      "if we only use records that accept_time_h within 2 hours\n",
      "message_group\n",
      "long message     0.573433\n",
      "short message    0.611817\n",
      "Name: accept_time_h, dtype: float64\n",
      "t-test for accept_time_h between treatment and control group: t = -0.721929  p = 0.471213\n",
      "if we only use records that accept_time_h within 3 hours\n",
      "message_group\n",
      "long message     0.840558\n",
      "short message    0.823768\n",
      "Name: accept_time_h, dtype: float64\n",
      "t-test for accept_time_h between treatment and control group: t = 0.241455  p = 0.809418\n",
      "if we only use records that accept_time_h within 6 hours\n",
      "message_group\n",
      "long message     1.591006\n",
      "short message    1.329415\n",
      "Name: accept_time_h, dtype: float64\n",
      "t-test for accept_time_h between treatment and control group: t = 2.21631  p = 0.0274731\n",
      "if we only use records that accept_time_h within 12 hours\n",
      "message_group\n",
      "long message     2.738383\n",
      "short message    2.445641\n",
      "Name: accept_time_h, dtype: float64\n",
      "t-test for accept_time_h between treatment and control group: t = 1.34365  p = 0.180046\n",
      "if we only use records that accept_time_h within 24 hours\n",
      "message_group\n",
      "long message     4.773164\n",
      "short message    4.448276\n",
      "Name: accept_time_h, dtype: float64\n",
      "t-test for accept_time_h between treatment and control group: t = 0.826273  p = 0.409203\n",
      "if we only use records that accept_time_h within 48 hours\n",
      "message_group\n",
      "long message     7.795977\n",
      "short message    7.245237\n",
      "Name: accept_time_h, dtype: float64\n",
      "t-test for accept_time_h between treatment and control group: t = 0.827888  p = 0.408231\n",
      "if we only use records that accept_time_h within 168 hours\n",
      "message_group\n",
      "long message     15.232522\n",
      "short message    13.044000\n",
      "Name: accept_time_h, dtype: float64\n",
      "t-test for accept_time_h between treatment and control group: t = 1.49246  p = 0.136268\n",
      "if we only use records that booking_time_h within 1 hours\n",
      "message_group\n",
      "long message     0.534251\n",
      "short message    0.525845\n",
      "Name: booking_time_h, dtype: float64\n",
      "t-test for booking_time_h between treatment and control group: t = 0.128464  p = 0.898546\n",
      "if we only use records that booking_time_h within 2 hours\n",
      "message_group\n",
      "long message     0.945580\n",
      "short message    0.664962\n",
      "Name: booking_time_h, dtype: float64\n",
      "t-test for booking_time_h between treatment and control group: t = 3.08677  p = 0.00336223\n",
      "if we only use records that booking_time_h within 3 hours\n",
      "message_group\n",
      "long message     1.218166\n",
      "short message    1.076738\n",
      "Name: booking_time_h, dtype: float64\n",
      "t-test for booking_time_h between treatment and control group: t = 1.00328  p = 0.320207\n",
      "if we only use records that booking_time_h within 6 hours\n",
      "message_group\n",
      "long message     2.103000\n",
      "short message    1.988085\n",
      "Name: booking_time_h, dtype: float64\n",
      "t-test for booking_time_h between treatment and control group: t = 0.490666  p = 0.624962\n",
      "if we only use records that booking_time_h within 12 hours\n",
      "message_group\n",
      "long message     3.917290\n",
      "short message    3.485125\n",
      "Name: booking_time_h, dtype: float64\n",
      "t-test for booking_time_h between treatment and control group: t = 0.992792  p = 0.323131\n",
      "if we only use records that booking_time_h within 24 hours\n",
      "message_group\n",
      "long message     8.543125\n",
      "short message    7.485995\n",
      "Name: booking_time_h, dtype: float64\n",
      "t-test for booking_time_h between treatment and control group: t = 1.30848  p = 0.192856\n",
      "if we only use records that booking_time_h within 48 hours\n",
      "message_group\n",
      "long message     14.739706\n",
      "short message    12.487032\n",
      "Name: booking_time_h, dtype: float64\n",
      "t-test for booking_time_h between treatment and control group: t = 1.7921  p = 0.0748976\n",
      "if we only use records that booking_time_h within 168 hours\n",
      "message_group\n",
      "long message     29.737191\n",
      "short message    23.600243\n",
      "Name: booking_time_h, dtype: float64\n",
      "t-test for booking_time_h between treatment and control group: t = 2.16488  p = 0.0315748\n"
     ]
    }
   ],
   "source": [
    "sub=contracts[contracts.dim_contact_channel=='contact_me']\n",
    "time_var_list=['reply_time_h','accept_time_h','booking_time_h']\n",
    "for i in time_var_list:\n",
    "    for hours in [1,2,3,6,12,24,48,168]:\n",
    "        print \"if we only use records that \" + i + \" within \" + str(hours) +\" hours\" \n",
    "        a=sub[sub[i]<=hours].groupby(['message_group'])\n",
    "        print a[i].mean()\n",
    "        t, p = ttest_ind(sub[i][sub[i]<=hours][sub.message_group==\"long message\"], \\\n",
    "        sub[i][sub[i]<=hours][sub.message_group==\"short message\"], equal_var=False)\n",
    "        print \"t-test for \" + i + \" between treatment and control group: t = %g  p = %g\" % (t, p)"
   ]
  },
  {
   "cell_type": "markdown",
   "metadata": {
    "deletable": true,
    "editable": true
   },
   "source": [
    "## When user choose contact_me, long message does not make host reply faster and does not increase acceptance rate and booking rate."
   ]
  },
  {
   "cell_type": "code",
   "execution_count": 36,
   "metadata": {
    "collapsed": false,
    "deletable": true,
    "editable": true
   },
   "outputs": [
    {
     "name": "stdout",
     "output_type": "stream",
     "text": [
      "Chi-square test of contingency table: replied Vs message group\n",
      "                  True      False\n",
      "message_group                    \n",
      "long message   0.916735  0.083265\n",
      "short message  0.898858  0.101142\n",
      "(1.3884841725612387, 0.23866125343856337, 1, array([[ 1104.72015334,   108.27984666],\n",
      "       [  558.27984666,    54.72015334]]))\n",
      "\n",
      "\n",
      "Chi-square test of contingency table: accepted Vs message group\n",
      "                  True      False\n",
      "message_group                    \n",
      "long message   0.558120  0.441880\n",
      "short message  0.584013  0.415987\n",
      "(1.0089306770759894, 0.31515915202425193, 1, array([[ 687.54381161,  525.45618839],\n",
      "       [ 347.45618839,  265.54381161]]))\n",
      "\n",
      "\n",
      "Chi-square test of contingency table: booked Vs message group\n",
      "                  True      False\n",
      "message_group                    \n",
      "long message   0.553174  0.446826\n",
      "short message  0.577488  0.422512\n",
      "(0.88137622787349623, 0.34782501862133575, 1, array([[ 680.90087623,  532.09912377],\n",
      "       [ 344.09912377,  268.90087623]]))\n",
      "\n",
      "\n"
     ]
    }
   ],
   "source": [
    "grouped_by_long_message=contracts[contracts.dim_contact_channel=='book_it'].groupby(['message_group'])\n",
    "binary_outcome=['replied','accepted','booked']\n",
    "for i in binary_outcome:\n",
    "    print \"Chi-square test of contingency table: \" + i + \" Vs message group\"\n",
    "    print grouped_by_long_message[i].value_counts(2).unstack().fillna(0)\n",
    "    print stats.chi2_contingency(grouped_by_long_message[i].value_counts().unstack().fillna(0))\n",
    "    print \"\\n\""
   ]
  },
  {
   "cell_type": "code",
   "execution_count": 37,
   "metadata": {
    "collapsed": true,
    "deletable": true,
    "editable": true
   },
   "outputs": [],
   "source": [
    "#so people who use instant_booked or book_it tends to have a much  lower chance to send long message"
   ]
  },
  {
   "cell_type": "code",
   "execution_count": 38,
   "metadata": {
    "collapsed": false,
    "deletable": true,
    "editable": true
   },
   "outputs": [
    {
     "data": {
      "text/plain": [
       "Index([u'id_guest', u'id_host', u'id_listing', u'ts_interaction_first',\n",
       "       u'ts_reply_at_first', u'ts_accepted_at_first', u'ts_booking_at',\n",
       "       u'dim_contact_channel', u'm_first_message_length', u'id_user', u'ab',\n",
       "       u'Experiment group', u'replied', u'accepted', u'booked', u'messaged',\n",
       "       u'message_group', u'reply_time_h', u'accept_time_h', u'booking_time_h'],\n",
       "      dtype='object')"
      ]
     },
     "execution_count": 38,
     "metadata": {},
     "output_type": "execute_result"
    }
   ],
   "source": [
    "contracts.columns"
   ]
  },
  {
   "cell_type": "code",
   "execution_count": 39,
   "metadata": {
    "collapsed": false,
    "deletable": true,
    "editable": true
   },
   "outputs": [
    {
     "name": "stdout",
     "output_type": "stream",
     "text": [
      "dim_contact_channel               \n",
      "book_it              long message     1213\n",
      "                     short message     613\n",
      "contact_me           long message     6981\n",
      "                     short message    1149\n",
      "instant_booked       long message       23\n",
      "                     short message      21\n",
      "dtype: int64\n",
      "dim_contact_channel               \n",
      "book_it              long message     0.664294\n",
      "                     short message    0.335706\n",
      "contact_me           long message     0.858672\n",
      "                     short message    0.141328\n",
      "instant_booked       long message     0.522727\n",
      "                     short message    0.477273\n",
      "dtype: float64\n"
     ]
    },
    {
     "data": {
      "text/plain": [
       "<matplotlib.axes._subplots.AxesSubplot at 0x1129ec190>"
      ]
     },
     "execution_count": 39,
     "metadata": {},
     "output_type": "execute_result"
    },
    {
     "data": {
      "image/png": "[encoded data removed]",
      "text/plain": [
       "<matplotlib.figure.Figure at 0x112389150>"
      ]
     },
     "metadata": {},
     "output_type": "display_data"
    }
   ],
   "source": [
    "b=contracts.groupby(['dim_contact_channel'])\n",
    "print b.message_group.value_counts()\n",
    "print b.message_group.value_counts(2)\n",
    "b.message_group.value_counts(2).unstack().plot(kind=\"bar\",rot='horizontal',\\\n",
    "                                    title='Percentage of contact channels by message group')"
   ]
  }
 ],
 "metadata": {
  "anaconda-cloud": {},
  "kernelspec": {
   "display_name": "Python 3",
   "language": "python",
   "name": "python3"
  },
  "language_info": {
   "codemirror_mode": {
    "name": "ipython",
    "version": 3
   },
   "file_extension": ".py",
   "mimetype": "text/x-python",
   "name": "python",
   "nbconvert_exporter": "python",
   "pygments_lexer": "ipython3",
   "version": "3.5.2"
  }
 },
 "nbformat": 4,
 "nbformat_minor": 1
}
